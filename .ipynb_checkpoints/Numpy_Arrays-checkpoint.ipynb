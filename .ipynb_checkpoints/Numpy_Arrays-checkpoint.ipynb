{
 "cells": [
  {
   "cell_type": "code",
   "execution_count": 1,
   "metadata": {},
   "outputs": [],
   "source": [
    "import numpy as np "
   ]
  },
  {
   "cell_type": "code",
   "execution_count": 2,
   "metadata": {},
   "outputs": [
    {
     "data": {
      "text/plain": [
       "array([  4,   6,   9,  13,  15,  16,  89, 114])"
      ]
     },
     "execution_count": 2,
     "metadata": {},
     "output_type": "execute_result"
    }
   ],
   "source": [
    "lst = [4, 6, 9, 13, 15, 16, 89, 114]\n",
    "s_lst = np.array(lst)\n",
    "s_lst"
   ]
  },
  {
   "cell_type": "code",
   "execution_count": 3,
   "metadata": {},
   "outputs": [
    {
     "data": {
      "text/plain": [
       "array([[ 2,  4,  6,  8],\n",
       "       [ 3,  6,  9, 12],\n",
       "       [ 4,  8, 12, 16]])"
      ]
     },
     "execution_count": 3,
     "metadata": {},
     "output_type": "execute_result"
    }
   ],
   "source": [
    "mat = [2, 4, 6, 8], [3, 6, 9, 12], [4, 8, 12, 16]\n",
    "s_mat = np.array(mat)\n",
    "s_mat"
   ]
  },
  {
   "cell_type": "code",
   "execution_count": 4,
   "metadata": {},
   "outputs": [
    {
     "data": {
      "text/plain": [
       "array([ 1,  2,  3,  4,  5,  6,  7,  8,  9, 10, 11, 12, 13, 14])"
      ]
     },
     "execution_count": 4,
     "metadata": {},
     "output_type": "execute_result"
    }
   ],
   "source": [
    "# Ex 1:- Creating Numpy Arrays using np.arange(). 1st args= Start, 2nd args= Stop...\n",
    "\n",
    "np.arange(1, 15)"
   ]
  },
  {
   "cell_type": "code",
   "execution_count": 5,
   "metadata": {},
   "outputs": [
    {
     "data": {
      "text/plain": [
       "array([ 1,  4,  7, 10, 13])"
      ]
     },
     "execution_count": 5,
     "metadata": {},
     "output_type": "execute_result"
    }
   ],
   "source": [
    "# Ex 2:- Adding the third argument as a Step-size....\n",
    "np.arange(1, 15, 3)"
   ]
  },
  {
   "cell_type": "code",
   "execution_count": 6,
   "metadata": {},
   "outputs": [
    {
     "data": {
      "text/plain": [
       "array([0., 0., 0., 0.])"
      ]
     },
     "execution_count": 6,
     "metadata": {},
     "output_type": "execute_result"
    }
   ],
   "source": [
    "# Ex 3:- Generating specific types of an array of all zeros..\n",
    "np.zeros(4)              # O/p a 1-dimensional vector"
   ]
  },
  {
   "cell_type": "code",
   "execution_count": 7,
   "metadata": {},
   "outputs": [
    {
     "data": {
      "text/plain": [
       "array([[0., 0., 0., 0., 0.],\n",
       "       [0., 0., 0., 0., 0.],\n",
       "       [0., 0., 0., 0., 0.],\n",
       "       [0., 0., 0., 0., 0.]])"
      ]
     },
     "execution_count": 7,
     "metadata": {},
     "output_type": "execute_result"
    }
   ],
   "source": [
    "# Ex 4:- Generating a Multi-Dimensional matrix of zeros. 1st args in the tuple = row, 2nd args = cols...\n",
    "np.zeros((4, 5))"
   ]
  },
  {
   "cell_type": "code",
   "execution_count": 8,
   "metadata": {},
   "outputs": [
    {
     "data": {
      "text/plain": [
       "array([[1., 1., 1., 1., 1., 1.],\n",
       "       [1., 1., 1., 1., 1., 1.],\n",
       "       [1., 1., 1., 1., 1., 1.]])"
      ]
     },
     "execution_count": 8,
     "metadata": {},
     "output_type": "execute_result"
    }
   ],
   "source": [
    "# EX 5:- Generating a Multi-Dimensional matrix of ones..\n",
    "np.ones((3, 6))"
   ]
  },
  {
   "cell_type": "code",
   "execution_count": 9,
   "metadata": {},
   "outputs": [
    {
     "data": {
      "text/plain": [
       "array([3.        , 3.08163265, 3.16326531, 3.24489796, 3.32653061,\n",
       "       3.40816327, 3.48979592, 3.57142857, 3.65306122, 3.73469388,\n",
       "       3.81632653, 3.89795918, 3.97959184, 4.06122449, 4.14285714,\n",
       "       4.2244898 , 4.30612245, 4.3877551 , 4.46938776, 4.55102041,\n",
       "       4.63265306, 4.71428571, 4.79591837, 4.87755102, 4.95918367,\n",
       "       5.04081633, 5.12244898, 5.20408163, 5.28571429, 5.36734694,\n",
       "       5.44897959, 5.53061224, 5.6122449 , 5.69387755, 5.7755102 ,\n",
       "       5.85714286, 5.93877551, 6.02040816, 6.10204082, 6.18367347,\n",
       "       6.26530612, 6.34693878, 6.42857143, 6.51020408, 6.59183673,\n",
       "       6.67346939, 6.75510204, 6.83673469, 6.91836735, 7.        ])"
      ]
     },
     "execution_count": 9,
     "metadata": {},
     "output_type": "execute_result"
    }
   ],
   "source": [
    "# Ex 6:- Using the linspace funtion... You can tell that an array is 1 or Multi-dimensiuonal by the number of sets of square brackets...\n",
    "np.linspace(3, 7, 50)"
   ]
  },
  {
   "cell_type": "code",
   "execution_count": 10,
   "metadata": {},
   "outputs": [],
   "source": [
    "# The difference between the linspace() and range() --> linspace takes in the 3rd args as: no. of points, WHILE\n",
    "# arange() takes it as the step-size...."
   ]
  },
  {
   "cell_type": "code",
   "execution_count": 11,
   "metadata": {},
   "outputs": [
    {
     "data": {
      "text/plain": [
       "array([[1., 0., 0., 0., 0.],\n",
       "       [0., 1., 0., 0., 0.],\n",
       "       [0., 0., 1., 0., 0.],\n",
       "       [0., 0., 0., 1., 0.],\n",
       "       [0., 0., 0., 0., 1.]])"
      ]
     },
     "execution_count": 11,
     "metadata": {},
     "output_type": "execute_result"
    }
   ],
   "source": [
    "# Creating an identity matrix using numpy-> It's useful when dealing with linear algebra and takes a single digit as the argument....\n",
    "# It produces a 2-dimensional matrix where the number of rows is same as number of cols...\n",
    "# With a diagonal of ones, and everything else is zeros...\n",
    "\n",
    "# Ex 7:-\n",
    "np.eye(5)"
   ]
  },
  {
   "cell_type": "code",
   "execution_count": 12,
   "metadata": {},
   "outputs": [
    {
     "data": {
      "text/plain": [
       "array([0.00828136, 0.63184897, 0.42470292, 0.24270228])"
      ]
     },
     "execution_count": 12,
     "metadata": {},
     "output_type": "execute_result"
    }
   ],
   "source": [
    "# THE \"random method\" -> Creating Arrays of random numbers using....\n",
    "# Ex 8i:-\n",
    "np.random.rand(4)"
   ]
  },
  {
   "cell_type": "code",
   "execution_count": 13,
   "metadata": {},
   "outputs": [
    {
     "data": {
      "text/plain": [
       "array([[0.43183805, 0.83661214, 0.81525274, 0.91096416, 0.05942341,\n",
       "        0.09273249],\n",
       "       [0.45500238, 0.02772161, 0.73341292, 0.67831113, 0.56874663,\n",
       "        0.73486806],\n",
       "       [0.50894518, 0.75910711, 0.12833467, 0.49946891, 0.2538788 ,\n",
       "        0.74019091],\n",
       "       [0.5054743 , 0.17366114, 0.43230995, 0.68620419, 0.20350242,\n",
       "        0.95035035]])"
      ]
     },
     "execution_count": 13,
     "metadata": {},
     "output_type": "execute_result"
    }
   ],
   "source": [
    "# Ex 8ii:-\n",
    "np.random.rand(4, 6)"
   ]
  },
  {
   "cell_type": "code",
   "execution_count": 14,
   "metadata": {},
   "outputs": [
    {
     "data": {
      "text/plain": [
       "array([-1.92497185, -0.84582104,  0.34767937])"
      ]
     },
     "execution_count": 14,
     "metadata": {},
     "output_type": "execute_result"
    }
   ],
   "source": [
    "# Ex 8iii:- Getting three random numbers from a standard normal distribution....\n",
    "np.random.randn(3)"
   ]
  },
  {
   "cell_type": "code",
   "execution_count": 15,
   "metadata": {},
   "outputs": [
    {
     "data": {
      "text/plain": [
       "array([[-0.70031293,  0.76043766,  0.13239516, -0.14070297],\n",
       "       [ 0.7042423 , -0.5625617 , -0.65916219,  1.32668692],\n",
       "       [-0.15679578, -0.83907204, -1.26102385,  1.12483235]])"
      ]
     },
     "execution_count": 15,
     "metadata": {},
     "output_type": "execute_result"
    }
   ],
   "source": [
    "np.random.randn(3,4)"
   ]
  },
  {
   "cell_type": "code",
   "execution_count": 16,
   "metadata": {},
   "outputs": [
    {
     "data": {
      "text/plain": [
       "57"
      ]
     },
     "execution_count": 16,
     "metadata": {},
     "output_type": "execute_result"
    }
   ],
   "source": [
    "# Returning random numbers (integers)....\n",
    "# Ex 9i:-\n",
    "np.random.randint(1,150)"
   ]
  },
  {
   "cell_type": "code",
   "execution_count": 17,
   "metadata": {},
   "outputs": [
    {
     "data": {
      "text/plain": [
       "array([ 80,  39,  72,  66,  73,  80,  79,  86, 124,  49])"
      ]
     },
     "execution_count": 17,
     "metadata": {},
     "output_type": "execute_result"
    }
   ],
   "source": [
    "# Ex 9ii:- This example passes in a 3rd argument that returns 10 random integers, excluding the 2nd argument(150)...\n",
    "np.random.randint(1,150,10)"
   ]
  },
  {
   "cell_type": "code",
   "execution_count": 18,
   "metadata": {},
   "outputs": [
    {
     "data": {
      "text/plain": [
       "array([ 0,  1,  2,  3,  4,  5,  6,  7,  8,  9, 10, 11, 12, 13, 14, 15, 16,\n",
       "       17, 18, 19, 20, 21, 22, 23, 24, 25, 26, 27, 28, 29, 30, 31, 32, 33,\n",
       "       34])"
      ]
     },
     "execution_count": 18,
     "metadata": {},
     "output_type": "execute_result"
    }
   ],
   "source": [
    "# Ex 10i:-\n",
    "nar = np.arange(35)\n",
    "nar"
   ]
  },
  {
   "cell_type": "code",
   "execution_count": 19,
   "metadata": {},
   "outputs": [
    {
     "data": {
      "text/plain": [
       "array([[ 0,  1,  2,  3,  4],\n",
       "       [ 5,  6,  7,  8,  9],\n",
       "       [10, 11, 12, 13, 14],\n",
       "       [15, 16, 17, 18, 19],\n",
       "       [20, 21, 22, 23, 24],\n",
       "       [25, 26, 27, 28, 29],\n",
       "       [30, 31, 32, 33, 34]])"
      ]
     },
     "execution_count": 19,
     "metadata": {},
     "output_type": "execute_result"
    }
   ],
   "source": [
    "# Using the \"reshape\" attribute in reshaping \"nar\" from Ex 10...\n",
    "# NB: When reshaping an array, you must reshape according to the number of rows & cols (i.e rows * cols) to get the right matrix...\n",
    "# In this case (7*5) = 35 elements in a matrix . Anything above/below this range will result in an error..\n",
    "\n",
    "# Ex 10ii:-\n",
    "reshaping_nar = nar.reshape(7,5)\n",
    "reshaping_nar"
   ]
  },
  {
   "cell_type": "code",
   "execution_count": 20,
   "metadata": {},
   "outputs": [
    {
     "data": {
      "text/plain": [
       "array([15, 30, 29, 20,  2, 46, 52, 27, 16, 44, 45, 42, 61])"
      ]
     },
     "execution_count": 20,
     "metadata": {},
     "output_type": "execute_result"
    }
   ],
   "source": [
    "# Ex 10iii:-\n",
    "ran_arr = np.random.randint(0,65,13)      # Returns 13 integers from 0 - 65, excluding 65...\n",
    "ran_arr"
   ]
  },
  {
   "cell_type": "code",
   "execution_count": 21,
   "metadata": {},
   "outputs": [
    {
     "data": {
      "text/plain": [
       "61"
      ]
     },
     "execution_count": 21,
     "metadata": {},
     "output_type": "execute_result"
    }
   ],
   "source": [
    "# Ex 11i:- Minimum and Maximum value of an array...\n",
    "\n",
    "ran_arr.max()"
   ]
  },
  {
   "cell_type": "code",
   "execution_count": 22,
   "metadata": {},
   "outputs": [
    {
     "data": {
      "text/plain": [
       "2"
      ]
     },
     "execution_count": 22,
     "metadata": {},
     "output_type": "execute_result"
    }
   ],
   "source": [
    "ran_arr.min()"
   ]
  },
  {
   "cell_type": "code",
   "execution_count": 23,
   "metadata": {},
   "outputs": [
    {
     "data": {
      "text/plain": [
       "array([15, 30, 29, 20,  2, 46, 52, 27, 16, 44, 45, 42, 61])"
      ]
     },
     "execution_count": 23,
     "metadata": {},
     "output_type": "execute_result"
    }
   ],
   "source": [
    "# Ex 11ii:-\n",
    "# Getting the locations of max and min value in an array...\n",
    "# Meaning I want to locate at what index is my max and min value...\n",
    "\n",
    "ran_arr"
   ]
  },
  {
   "cell_type": "code",
   "execution_count": 24,
   "metadata": {},
   "outputs": [
    {
     "data": {
      "text/plain": [
       "12"
      ]
     },
     "execution_count": 24,
     "metadata": {},
     "output_type": "execute_result"
    }
   ],
   "source": [
    "# Returns the index location of the max value...\n",
    "maxlocation_ran_arr = ran_arr.argmax()\n",
    "maxlocation_ran_arr"
   ]
  },
  {
   "cell_type": "code",
   "execution_count": 25,
   "metadata": {},
   "outputs": [
    {
     "data": {
      "text/plain": [
       "4"
      ]
     },
     "execution_count": 25,
     "metadata": {},
     "output_type": "execute_result"
    }
   ],
   "source": [
    "# Returns the index location of the min value...\n",
    "minlocation_ran_arr = ran_arr.argmin()\n",
    "minlocation_ran_arr"
   ]
  },
  {
   "cell_type": "code",
   "execution_count": 26,
   "metadata": {},
   "outputs": [
    {
     "data": {
      "text/plain": [
       "(13,)"
      ]
     },
     "execution_count": 26,
     "metadata": {},
     "output_type": "execute_result"
    }
   ],
   "source": [
    "# The shape() Attribute --> Gets the Shape of a vector...\n",
    "# The ',' in the o/p indicates that it's a 1-dimensional vector...\n",
    "\n",
    "# Ex 12i:- \n",
    "ran_arr.shape"
   ]
  },
  {
   "cell_type": "code",
   "execution_count": 27,
   "metadata": {},
   "outputs": [
    {
     "data": {
      "text/plain": [
       "array([[ 1.78089603, -0.09197213,  2.08568249, -0.14475175, -1.00879372],\n",
       "       [ 0.33796628,  0.11606296, -0.95821361,  1.56573772, -0.79701478],\n",
       "       [-1.27784272, -0.7237096 ,  0.04212293, -0.51451712, -1.31409646],\n",
       "       [-0.30900873,  0.27594085,  1.67587546,  0.42622008, -0.56299717]])"
      ]
     },
     "execution_count": 27,
     "metadata": {},
     "output_type": "execute_result"
    }
   ],
   "source": [
    "# Ex 12ii:-\n",
    "app = np.random.randn(4,5)\n",
    "app"
   ]
  },
  {
   "cell_type": "code",
   "execution_count": 28,
   "metadata": {},
   "outputs": [
    {
     "data": {
      "text/plain": [
       "(4, 5)"
      ]
     },
     "execution_count": 28,
     "metadata": {},
     "output_type": "execute_result"
    }
   ],
   "source": [
    "app.shape"
   ]
  },
  {
   "cell_type": "code",
   "execution_count": 29,
   "metadata": {},
   "outputs": [
    {
     "data": {
      "text/plain": [
       "array([[ 1.78089603, -0.09197213,  2.08568249, -0.14475175, -1.00879372],\n",
       "       [ 0.33796628,  0.11606296, -0.95821361,  1.56573772, -0.79701478],\n",
       "       [-1.27784272, -0.7237096 ,  0.04212293, -0.51451712, -1.31409646],\n",
       "       [-0.30900873,  0.27594085,  1.67587546,  0.42622008, -0.56299717]])"
      ]
     },
     "execution_count": 29,
     "metadata": {},
     "output_type": "execute_result"
    }
   ],
   "source": [
    "app.reshape(4,5)"
   ]
  },
  {
   "cell_type": "code",
   "execution_count": 30,
   "metadata": {},
   "outputs": [
    {
     "data": {
      "text/plain": [
       "dtype('float64')"
      ]
     },
     "execution_count": 30,
     "metadata": {},
     "output_type": "execute_result"
    }
   ],
   "source": [
    "# Finding data type in an array...\n",
    "\n",
    "# Ex 13:-\n",
    "app.dtype"
   ]
  },
  {
   "cell_type": "code",
   "execution_count": 31,
   "metadata": {},
   "outputs": [
    {
     "data": {
      "text/plain": [
       "array([19, 21,  0, 15,  6,  5,  1, 13,  8,  0, 24, 18,  2])"
      ]
     },
     "execution_count": 31,
     "metadata": {},
     "output_type": "execute_result"
    }
   ],
   "source": [
    "# NB:- Another way of using the random function w/numpy without using -\"np.random.randint\" is: Ex 14...\n",
    "\n",
    "# Ex 14:- \n",
    "from numpy.random import randint\n",
    "rar = randint(0,25,13)\n",
    "rar"
   ]
  },
  {
   "cell_type": "code",
   "execution_count": null,
   "metadata": {},
   "outputs": [],
   "source": []
  }
 ],
 "metadata": {
  "kernelspec": {
   "display_name": "Python 3",
   "language": "python",
   "name": "python3"
  },
  "language_info": {
   "codemirror_mode": {
    "name": "ipython",
    "version": 3
   },
   "file_extension": ".py",
   "mimetype": "text/x-python",
   "name": "python",
   "nbconvert_exporter": "python",
   "pygments_lexer": "ipython3",
   "version": "3.7.6"
  }
 },
 "nbformat": 4,
 "nbformat_minor": 4
}
